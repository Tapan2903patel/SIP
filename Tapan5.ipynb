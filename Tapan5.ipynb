{
 "cells": [
  {
   "cell_type": "code",
   "execution_count": 1,
   "metadata": {},
   "outputs": [
    {
     "name": "stdout",
     "output_type": "stream",
     "text": [
      "Collecting sklearn\n",
      "  Downloading sklearn-0.0.post9.tar.gz (3.6 kB)\n",
      "Building wheels for collected packages: sklearn\n",
      "  Building wheel for sklearn (setup.py): started\n",
      "  Building wheel for sklearn (setup.py): finished with status 'done'\n",
      "  Created wheel for sklearn: filename=sklearn-0.0.post9-py3-none-any.whl size=2367 sha256=e26a342f6b3022ea76022a00520836fa4017584238122da3f8bd804c172a52ed\n",
      "  Stored in directory: c:\\users\\sap\\appdata\\local\\pip\\cache\\wheels\\c7\\ed\\3e\\3f69ec854a9f0c83553f570560a33463549b61c293c9a63be1\n",
      "Successfully built sklearn\n",
      "Installing collected packages: sklearn\n",
      "Successfully installed sklearn-0.0.post9\n",
      "Note: you may need to restart the kernel to use updated packages.\n"
     ]
    }
   ],
   "source": [
    "pip install sklearn"
   ]
  },
  {
   "cell_type": "code",
   "execution_count": 16,
   "metadata": {},
   "outputs": [],
   "source": [
    "import sklearn\n",
    "# smooth=1\n",
    "# bumpy=0\n",
    "# apple=0\n",
    "# orange=1\n",
    "feature=[[140,1,50],[130,1,70],[150,0,30],[170,0,40],[190,0,30],[160,1,50]]\n",
    "lables=[0,0,1,1,1,0]"
   ]
  },
  {
   "cell_type": "code",
   "execution_count": 19,
   "metadata": {},
   "outputs": [
    {
     "name": "stdout",
     "output_type": "stream",
     "text": [
      "[1]\n"
     ]
    }
   ],
   "source": [
    "\n",
    "import sklearn.tree\n",
    "# feature=[[140,'smooth'],[130,'smooth'],[150,'bumpy'],[170,'bumpy']]\n",
    "clf=tree.DecisionTreeClassifier()\n",
    "clf=clf.fit(feature,lables)\n",
    "print(clf.predict([[150,0,30]]))"
   ]
  },
  {
   "cell_type": "code",
   "execution_count": null,
   "metadata": {},
   "outputs": [],
   "source": []
  }
 ],
 "metadata": {
  "kernelspec": {
   "display_name": "Python 3",
   "language": "python",
   "name": "python3"
  },
  "language_info": {
   "codemirror_mode": {
    "name": "ipython",
    "version": 3
   },
   "file_extension": ".py",
   "mimetype": "text/x-python",
   "name": "python",
   "nbconvert_exporter": "python",
   "pygments_lexer": "ipython3",
   "version": "3.8.3"
  }
 },
 "nbformat": 4,
 "nbformat_minor": 4
}
