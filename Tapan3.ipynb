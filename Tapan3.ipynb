{
 "cells": [
  {
   "cell_type": "markdown",
   "metadata": {},
   "source": [
    "# Panda for Data manipulation and anlysis"
   ]
  },
  {
   "cell_type": "code",
   "execution_count": 1,
   "metadata": {},
   "outputs": [
    {
     "name": "stdout",
     "output_type": "stream",
     "text": [
      "Requirement already satisfied: pandas in c:\\users\\sap\\anaconda3\\lib\\site-packages (1.0.5)\n",
      "Requirement already satisfied: numpy>=1.13.3 in c:\\users\\sap\\anaconda3\\lib\\site-packages (from pandas) (1.18.5)\n",
      "Requirement already satisfied: python-dateutil>=2.6.1 in c:\\users\\sap\\anaconda3\\lib\\site-packages (from pandas) (2.8.1)\n",
      "Requirement already satisfied: pytz>=2017.2 in c:\\users\\sap\\anaconda3\\lib\\site-packages (from pandas) (2020.1)\n",
      "Requirement already satisfied: six>=1.5 in c:\\users\\sap\\anaconda3\\lib\\site-packages (from python-dateutil>=2.6.1->pandas) (1.15.0)\n",
      "Could not fetch URL https://pypi.org/simple/pip/: There was a problem confirming the ssl certificate: HTTPSConnectionPool(host='pypi.org', port=443): Max retries exceeded with url: /simple/pip/ (Caused by SSLError(SSLCertVerificationError(1, '[SSL: CERTIFICATE_VERIFY_FAILED] certificate verify failed: self signed certificate in certificate chain (_ssl.c:1108)'))) - skipping\n",
      "Note: you may need to restart the kernel to use updated packages.\n"
     ]
    }
   ],
   "source": [
    "pip install pandas"
   ]
  },
  {
   "cell_type": "code",
   "execution_count": 4,
   "metadata": {},
   "outputs": [
    {
     "name": "stdout",
     "output_type": "stream",
     "text": [
      "Series([], dtype: float64)\n",
      "0    g\n",
      "1    e\n",
      "2    e\n",
      "3    k\n",
      "4    s\n",
      "dtype: object\n"
     ]
    },
    {
     "name": "stderr",
     "output_type": "stream",
     "text": [
      "<ipython-input-4-536516c1bc1c>:4: DeprecationWarning: The default dtype for empty Series will be 'object' instead of 'float64' in a future version. Specify a dtype explicitly to silence this warning.\n",
      "  ser=pd.Series()\n"
     ]
    }
   ],
   "source": [
    "import pandas as pd\n",
    "import numpy as np\n",
    "\n",
    "ser=pd.Series()\n",
    "print(ser)\n",
    "data=np.array(['g','e','e','k','s'])\n",
    "ser=pd.Series(data)\n",
    "print(ser)"
   ]
  },
  {
   "cell_type": "code",
   "execution_count": 8,
   "metadata": {},
   "outputs": [
    {
     "name": "stdout",
     "output_type": "stream",
     "text": [
      "0    T\n",
      "1    a\n",
      "2    p\n",
      "3    a\n",
      "4    n\n",
      "dtype: object\n"
     ]
    }
   ],
   "source": [
    "li=['T','a','p','a','n']\n",
    "ser=pd.Series(li)\n",
    "print(ser)\n"
   ]
  },
  {
   "cell_type": "code",
   "execution_count": 14,
   "metadata": {},
   "outputs": [
    {
     "name": "stdout",
     "output_type": "stream",
     "text": [
      "   Park Code                                       Park Name       State  \\\n",
      "0       ACAD                            Acadia National Park          ME   \n",
      "1       ARCH                            Arches National Park          UT   \n",
      "2       BADL                          Badlands National Park          SD   \n",
      "3       BIBE                          Big Bend National Park          TX   \n",
      "4       BISC                          Biscayne National Park          FL   \n",
      "5       BLCA      Black Canyon of the Gunnison National Park          CO   \n",
      "6       BRCA                      Bryce Canyon National Park          UT   \n",
      "7       CANY                       Canyonlands National Park          UT   \n",
      "8       CARE                      Capitol Reef National Park          UT   \n",
      "9       CAVE                  Carlsbad Caverns National Park          NM   \n",
      "10      CHIS                   Channel Islands National Park          CA   \n",
      "11      CONG                          Congaree National Park          SC   \n",
      "12      CRLA                       Crater Lake National Park          OR   \n",
      "13      CUVA                   Cuyahoga Valley National Park          OH   \n",
      "14      DENA               Denali National Park and Preserve          AK   \n",
      "15      DEVA                      Death Valley National Park      CA, NV   \n",
      "16      DRTO                      Dry Tortugas National Park          FL   \n",
      "17      EVER                        Everglades National Park          FL   \n",
      "18      GAAR  Gates Of The Arctic National Park and Preserve          AK   \n",
      "19      GLAC                           Glacier National Park          MT   \n",
      "20      GLBA          Glacier Bay National Park and Preserve          AK   \n",
      "21      GRBA                       Great Basin National Park          NV   \n",
      "22      GRCA                      Grand Canyon National Park          AZ   \n",
      "23      GRSA     Great Sand Dunes National Park and Preserve          CO   \n",
      "24      GRSM             Great Smoky Mountains National Park      TN, NC   \n",
      "25      GRTE                       Grand Teton National Park          WY   \n",
      "26      GUMO               Guadalupe Mountains National Park          TX   \n",
      "27      HALE                         Haleakala National Park          HI   \n",
      "28      HAVO                  Hawaii Volcanoes National Park          HI   \n",
      "29      HOSP                       Hot Springs National Park          AR   \n",
      "30      ISRO                       Isle Royale National Park          MI   \n",
      "31      JOTR                       Joshua Tree National Park          CA   \n",
      "32      KATM               Katmai National Park and Preserve          AK   \n",
      "33      KEFJ                      Kenai Fjords National Park          AK   \n",
      "34      KOVA                      Kobuk Valley National Park          AK   \n",
      "35      LACL           Lake Clark National Park and Preserve          AK   \n",
      "36      LAVO                   Lassen Volcanic National Park          CA   \n",
      "37      MACA                      Mammoth Cave National Park          KY   \n",
      "38      MEVE                        Mesa Verde National Park          CO   \n",
      "39      MORA                     Mount Rainier National Park          WA   \n",
      "40      NOCA                    North Cascades National Park          WA   \n",
      "41      OLYM                           Olympic National Park          WA   \n",
      "42      PEFO                  Petrified Forest National Park          AZ   \n",
      "43      PINN                         Pinnacles National Park          CA   \n",
      "44      REDW                           Redwood National Park          CA   \n",
      "45      ROMO                    Rocky Mountain National Park          CO   \n",
      "46      SAGU                           Saguaro National Park          AZ   \n",
      "47      SEKI         Sequoia and Kings Canyon National Parks          CA   \n",
      "48      SHEN                        Shenandoah National Park          VA   \n",
      "49      THRO                Theodore Roosevelt National Park          ND   \n",
      "50      VOYA                         Voyageurs National Park          MN   \n",
      "51      WICA                         Wind Cave National Park          SD   \n",
      "52      WRST  Wrangell - St Elias National Park and Preserve          AK   \n",
      "53      YELL                       Yellowstone National Park  WY, MT, ID   \n",
      "54      YOSE                          Yosemite National Park          CA   \n",
      "55      ZION                              Zion National Park          UT   \n",
      "\n",
      "      Acres  Latitude  Longitude  \n",
      "0     47390     44.35     -68.21  \n",
      "1     76519     38.68    -109.57  \n",
      "2    242756     43.75    -102.50  \n",
      "3    801163     29.25    -103.25  \n",
      "4    172924     25.65     -80.08  \n",
      "5     32950     38.57    -107.72  \n",
      "6     35835     37.57    -112.18  \n",
      "7    337598     38.20    -109.93  \n",
      "8    241904     38.20    -111.17  \n",
      "9     46766     32.17    -104.44  \n",
      "10   249561     34.01    -119.42  \n",
      "11    26546     33.78     -80.78  \n",
      "12   183224     42.94    -122.10  \n",
      "13    32950     41.24     -81.55  \n",
      "14  3372402     63.33    -150.50  \n",
      "15  4740912     36.24    -116.82  \n",
      "16    64701     24.63     -82.87  \n",
      "17  1508538     25.32     -80.93  \n",
      "18  7523898     67.78    -153.30  \n",
      "19  1013572     48.80    -114.00  \n",
      "20  3224840     58.50    -137.00  \n",
      "21    77180     38.98    -114.30  \n",
      "22  1217403     36.06    -112.14  \n",
      "23    42984     37.73    -105.51  \n",
      "24   521490     35.68     -83.53  \n",
      "25   309995     43.73    -110.80  \n",
      "26    86416     31.92    -104.87  \n",
      "27    29094     20.72    -156.17  \n",
      "28   323431     19.38    -155.20  \n",
      "29     5550     34.51     -93.05  \n",
      "30   571790     48.10     -88.55  \n",
      "31   789745     33.79    -115.90  \n",
      "32  3674530     58.50    -155.00  \n",
      "33   669983     59.92    -149.65  \n",
      "34  1750717     67.55    -159.28  \n",
      "35  2619733     60.97    -153.42  \n",
      "36   106372     40.49    -121.51  \n",
      "37    52830     37.18     -86.10  \n",
      "38    52122     37.18    -108.49  \n",
      "39   235625     46.85    -121.75  \n",
      "40   504781     48.70    -121.20  \n",
      "41   922651     47.97    -123.50  \n",
      "42    93533     35.07    -109.78  \n",
      "43    26606     36.48    -121.16  \n",
      "44   112512     41.30    -124.00  \n",
      "45   265828     40.40    -105.58  \n",
      "46    91440     32.25    -110.50  \n",
      "47   865952     36.43    -118.68  \n",
      "48   199045     38.53     -78.35  \n",
      "49    70447     46.97    -103.45  \n",
      "50   218200     48.50     -92.88  \n",
      "51    28295     43.57    -103.48  \n",
      "52  8323148     61.00    -142.00  \n",
      "53  2219791     44.60    -110.50  \n",
      "54   761266     37.83    -119.50  \n",
      "55   146598     37.30    -113.05  \n"
     ]
    }
   ],
   "source": [
    "import pandas as pd\n",
    "data=pd.read_csv(\"parks.csv\")\n",
    "print(data)"
   ]
  },
  {
   "cell_type": "code",
   "execution_count": 16,
   "metadata": {},
   "outputs": [
    {
     "name": "stdout",
     "output_type": "stream",
     "text": [
      "            Date      Open      High       Low     Close\n",
      "0     2022-04-18  57338.58  57420.80  56842.39  57166.74\n",
      "1     2022-04-13  58910.74  59003.82  58291.23  58338.93\n",
      "2     2022-04-12  58743.50  58794.78  58298.57  58576.37\n",
      "3     2022-04-11  59333.18  59355.76  58894.40  58964.57\n",
      "4     2022-04-08  59256.97  59654.44  58876.36  59447.18\n",
      "...          ...       ...       ...       ...       ...\n",
      "7586  1991-01-14   1012.80   1017.98   1004.91   1017.72\n",
      "7587  1991-01-11   1000.51   1034.30    997.04   1034.30\n",
      "7588  1991-01-09   1007.66   1013.80    998.09   1008.52\n",
      "7589  1991-01-07    982.81   1010.77    978.69   1010.77\n",
      "7590  1991-01-03    983.51    989.08    981.08    982.35\n",
      "\n",
      "[7591 rows x 5 columns]\n"
     ]
    }
   ],
   "source": [
    "data=pd.read_csv(\"BSE-SENSEX.csv\")\n",
    "print(data)"
   ]
  },
  {
   "cell_type": "code",
   "execution_count": 19,
   "metadata": {},
   "outputs": [
    {
     "name": "stdout",
     "output_type": "stream",
     "text": [
      "        0\n",
      "0   Geeks\n",
      "1     for\n",
      "2   Geeks\n",
      "3      is\n",
      "4  portal\n",
      "5     for\n",
      "6   geeks\n"
     ]
    }
   ],
   "source": [
    "lst=['Geeks','for','Geeks','is','portal','for','geeks']\n",
    "df=pd.DataFrame(lst)\n",
    "print(df)"
   ]
  },
  {
   "cell_type": "code",
   "execution_count": 20,
   "metadata": {},
   "outputs": [
    {
     "name": "stdout",
     "output_type": "stream",
     "text": [
      "    Name  Age\n",
      "0    Tom   20\n",
      "1   Nick   21\n",
      "2  Krish   19\n",
      "3   Jack   18\n"
     ]
    }
   ],
   "source": [
    "data={'Name':['Tom','Nick','Krish','Jack'],'Age':[20,21,19,18]}\n",
    "df=pd.DataFrame(data)\n",
    "print(df)"
   ]
  },
  {
   "cell_type": "code",
   "execution_count": 22,
   "metadata": {},
   "outputs": [
    {
     "data": {
      "text/html": [
       "<div>\n",
       "<style scoped>\n",
       "    .dataframe tbody tr th:only-of-type {\n",
       "        vertical-align: middle;\n",
       "    }\n",
       "\n",
       "    .dataframe tbody tr th {\n",
       "        vertical-align: top;\n",
       "    }\n",
       "\n",
       "    .dataframe thead th {\n",
       "        text-align: right;\n",
       "    }\n",
       "</style>\n",
       "<table border=\"1\" class=\"dataframe\">\n",
       "  <thead>\n",
       "    <tr style=\"text-align: right;\">\n",
       "      <th></th>\n",
       "      <th>p</th>\n",
       "      <th>q</th>\n",
       "      <th>r</th>\n",
       "      <th>s</th>\n",
       "    </tr>\n",
       "  </thead>\n",
       "  <tbody>\n",
       "    <tr>\n",
       "      <th>parker</th>\n",
       "      <td>4</td>\n",
       "      <td>6</td>\n",
       "      <td>6</td>\n",
       "      <td>34</td>\n",
       "    </tr>\n",
       "    <tr>\n",
       "      <th>Wiliam</th>\n",
       "      <td>7</td>\n",
       "      <td>8</td>\n",
       "      <td>5</td>\n",
       "      <td>6</td>\n",
       "    </tr>\n",
       "    <tr>\n",
       "      <th>sdf</th>\n",
       "      <td>1</td>\n",
       "      <td>4</td>\n",
       "      <td>7</td>\n",
       "      <td>7</td>\n",
       "    </tr>\n",
       "    <tr>\n",
       "      <th>asdfg</th>\n",
       "      <td>2</td>\n",
       "      <td>3</td>\n",
       "      <td>3</td>\n",
       "      <td>3</td>\n",
       "    </tr>\n",
       "    <tr>\n",
       "      <th>ag</th>\n",
       "      <td>3</td>\n",
       "      <td>5</td>\n",
       "      <td>6</td>\n",
       "      <td>7</td>\n",
       "    </tr>\n",
       "  </tbody>\n",
       "</table>\n",
       "</div>"
      ],
      "text/plain": [
       "        p  q  r   s\n",
       "parker  4  6  6  34\n",
       "Wiliam  7  8  5   6\n",
       "sdf     1  4  7   7\n",
       "asdfg   2  3  3   3\n",
       "ag      3  5  6   7"
      ]
     },
     "execution_count": 22,
     "metadata": {},
     "output_type": "execute_result"
    }
   ],
   "source": [
    "info=pd.DataFrame({'p':[4,7,1,2,3],\n",
    "                  'q':[6,8,4,3,5],\n",
    "                  'r':[6,5,7,3,6],\n",
    "                  's':[34,6,7,3,7]},index=[\"parker\",'Wiliam','sdf','asdfg','ag'])\n",
    "info"
   ]
  },
  {
   "cell_type": "code",
   "execution_count": 31,
   "metadata": {},
   "outputs": [
    {
     "data": {
      "text/html": [
       "<div>\n",
       "<style scoped>\n",
       "    .dataframe tbody tr th:only-of-type {\n",
       "        vertical-align: middle;\n",
       "    }\n",
       "\n",
       "    .dataframe tbody tr th {\n",
       "        vertical-align: top;\n",
       "    }\n",
       "\n",
       "    .dataframe thead th {\n",
       "        text-align: right;\n",
       "    }\n",
       "</style>\n",
       "<table border=\"1\" class=\"dataframe\">\n",
       "  <thead>\n",
       "    <tr style=\"text-align: right;\">\n",
       "      <th></th>\n",
       "      <th>p</th>\n",
       "      <th>q</th>\n",
       "      <th>r</th>\n",
       "      <th>s</th>\n",
       "    </tr>\n",
       "  </thead>\n",
       "  <tbody>\n",
       "    <tr>\n",
       "      <th>parker</th>\n",
       "      <td>4</td>\n",
       "      <td>6</td>\n",
       "      <td>6</td>\n",
       "      <td>34</td>\n",
       "    </tr>\n",
       "    <tr>\n",
       "      <th>Wiliam</th>\n",
       "      <td>7</td>\n",
       "      <td>8</td>\n",
       "      <td>5</td>\n",
       "      <td>6</td>\n",
       "    </tr>\n",
       "    <tr>\n",
       "      <th>sdf</th>\n",
       "      <td>1</td>\n",
       "      <td>4</td>\n",
       "      <td>7</td>\n",
       "      <td>7</td>\n",
       "    </tr>\n",
       "    <tr>\n",
       "      <th>asdfg</th>\n",
       "      <td>2</td>\n",
       "      <td>3</td>\n",
       "      <td>3</td>\n",
       "      <td>3</td>\n",
       "    </tr>\n",
       "    <tr>\n",
       "      <th>ag</th>\n",
       "      <td>3</td>\n",
       "      <td>5</td>\n",
       "      <td>6</td>\n",
       "      <td>7</td>\n",
       "    </tr>\n",
       "  </tbody>\n",
       "</table>\n",
       "</div>"
      ],
      "text/plain": [
       "        p  q  r   s\n",
       "parker  4  6  6  34\n",
       "Wiliam  7  8  5   6\n",
       "sdf     1  4  7   7\n",
       "asdfg   2  3  3   3\n",
       "ag      3  5  6   7"
      ]
     },
     "execution_count": 31,
     "metadata": {},
     "output_type": "execute_result"
    }
   ],
   "source": [
    "info.reindex(['a','b','c','d','e'])\n",
    "info\n",
    "#print(info)"
   ]
  },
  {
   "cell_type": "code",
   "execution_count": 34,
   "metadata": {},
   "outputs": [
    {
     "name": "stdout",
     "output_type": "stream",
     "text": [
      "           0         1         2         3         4         5         6  \\\n",
      "1   0.433693 -0.610227  0.567101  0.405900 -0.919224 -0.924180 -0.983579   \n",
      "2  -0.279051 -1.908782 -1.682435 -0.160247  0.134436 -0.918117  0.137433   \n",
      "4   1.445417  2.210939 -1.286112  1.416233 -0.340616  0.531990 -1.861572   \n",
      "5  -0.925165 -0.548264  0.374575  1.009839 -1.073146  0.630123 -0.907328   \n",
      "5  -0.062994 -0.607915  0.475308  0.304855 -0.989867  0.094418 -1.012143   \n",
      "7   0.902266  0.701120 -0.091939  1.741282  0.378089 -0.645036  1.052198   \n",
      "7  -0.281087 -0.482523 -0.352305 -1.393890  0.724959 -0.698203  0.539631   \n",
      "7  -0.269171  1.101119 -0.234089 -0.514140 -0.813436 -1.662587 -0.639136   \n",
      "7   0.610340  1.610642 -0.351518 -0.987071 -1.090618  0.337210 -0.025613   \n",
      "45  0.216831 -0.616088  0.457575  2.864450  0.137567 -1.345206  0.195336   \n",
      "\n",
      "           7         8         9        10        11        12        13  \\\n",
      "1  -0.857129 -0.936570  2.684202  0.486857  0.338419  0.638719 -0.196904   \n",
      "2  -0.906620  0.788498  1.079324 -0.058427  0.550332  0.204726 -0.438641   \n",
      "4   0.110046  1.394933  1.171610  0.537125 -0.245697 -0.460762 -0.506762   \n",
      "5  -0.295211 -0.674428 -1.414991 -0.134325 -0.793980  0.988309 -0.727656   \n",
      "5  -0.088371  0.464014  0.250498  1.775546  0.107291  0.267385 -1.519672   \n",
      "7   0.936377  0.535936  0.273925  0.287868 -0.793095  0.015830  0.138853   \n",
      "7   0.613478  0.061492  0.977156  1.054478 -0.242161  0.748957  0.450924   \n",
      "7  -0.650680  1.319017 -0.285896  0.034648 -0.064543 -0.169664 -0.485012   \n",
      "7  -1.799007  1.481713 -0.805597 -1.001545  0.728234 -0.169869 -1.805242   \n",
      "45  0.620733 -0.134912 -0.283935 -0.211405  0.851511 -0.770984 -0.477420   \n",
      "\n",
      "          14        15        16        17        18        19  \n",
      "1   0.371734 -0.634516  1.117931 -0.626807 -1.157253  0.167985  \n",
      "2   0.554094 -0.409972 -0.059311 -1.072034 -1.007840 -1.366590  \n",
      "4   1.075663 -0.747881  0.619514 -0.830457 -0.866243  0.346945  \n",
      "5  -1.263908 -1.026645  0.058587 -0.515242  2.500396 -2.226336  \n",
      "5  -2.451435 -0.712974  0.408516  2.003814 -1.329604  0.219291  \n",
      "7   0.104528  0.009018  0.735423 -0.497868 -0.920966 -1.126568  \n",
      "7   1.356631  0.040468 -0.594764  0.851715  0.653765 -1.629759  \n",
      "7   1.552328  0.197538 -0.844150 -0.710253 -1.520362  0.709136  \n",
      "7  -1.267574  0.531081 -0.657374  0.327574  0.294064 -0.492356  \n",
      "45  0.063791  1.877337 -0.668794  1.106145 -1.742399  0.509987  \n"
     ]
    }
   ],
   "source": [
    "unsorted_df=pd.DataFrame(np.random.randn(10,20),index=[1,4,2,5,7,5,7,7,45,7])\n",
    "sorted_df=unsorted_df.sort_index()\n",
    "print(sorted_df)"
   ]
  },
  {
   "cell_type": "code",
   "execution_count": 36,
   "metadata": {},
   "outputs": [
    {
     "name": "stdout",
     "output_type": "stream",
     "text": [
      "           0         1\n",
      "45  1.082561 -1.031458\n",
      "7  -1.053998 -0.717046\n",
      "7  -0.360804 -0.977063\n",
      "7  -0.593558  0.851191\n",
      "7   1.087721 -0.808838\n",
      "5  -1.289835 -0.308967\n",
      "5  -1.383252  0.878234\n",
      "4   1.251789  0.242233\n",
      "2  -0.283420  0.563858\n",
      "1   0.113024  0.132421\n"
     ]
    }
   ],
   "source": [
    "unsorted_df=pd.DataFrame(np.random.randn(10,2),index=[1,4,2,5,7,5,7,7,45,7])\n",
    "sorted_df=unsorted_df.sort_index(ascending=False)\n",
    "print(sorted_df)"
   ]
  },
  {
   "cell_type": "code",
   "execution_count": 37,
   "metadata": {},
   "outputs": [
    {
     "name": "stdout",
     "output_type": "stream",
     "text": [
      "           0         1\n",
      "1  -0.235193  1.036743\n",
      "4   0.330657  0.930734\n",
      "2  -0.857269 -0.235787\n",
      "5  -0.104349  0.869607\n",
      "7   0.514333  1.075485\n",
      "5  -1.331518 -0.235853\n",
      "7   0.204731 -0.638290\n",
      "7   0.536977  0.953536\n",
      "45  1.221214 -1.244837\n",
      "7  -1.831597  2.267359\n"
     ]
    }
   ],
   "source": [
    "unsorted_df=pd.DataFrame(np.random.randn(10,2),index=[1,4,2,5,7,5,7,7,45,7])\n",
    "sorted_df=unsorted_df.sort_index(axis=1)\n",
    "print(sorted_df)"
   ]
  },
  {
   "cell_type": "code",
   "execution_count": 38,
   "metadata": {},
   "outputs": [
    {
     "name": "stdout",
     "output_type": "stream",
     "text": [
      "0      tom\n",
      "1     adfg\n",
      "2     adfs\n",
      "3    adsfg\n",
      "4      sdf\n",
      "5      NaN\n",
      "6      435\n",
      "dtype: object\n"
     ]
    }
   ],
   "source": [
    "s=pd.Series(['Tom','adfg','adfs','adsfg','sdf',np.nan,'435'])\n",
    "print(s.str.lower())"
   ]
  },
  {
   "cell_type": "code",
   "execution_count": 6,
   "metadata": {},
   "outputs": [
    {
     "name": "stdout",
     "output_type": "stream",
     "text": [
      "   Math  Science  English\n",
      "0  90.0     43.0     34.0\n",
      "1  85.0     56.0      NaN\n",
      "2  86.0     45.0     54.0\n",
      "3   NaN      NaN     32.0\n",
      "4  45.0      NaN     65.0\n",
      "5  57.0     35.0      NaN\n",
      "\n",
      " Math       5\n",
      "Science    4\n",
      "English    4\n",
      "dtype: int64\n",
      "\n",
      " Math       90.0\n",
      "Science    56.0\n",
      "English    65.0\n",
      "dtype: float64\n",
      "\n",
      " Math       45.0\n",
      "Science    35.0\n",
      "English    32.0\n",
      "dtype: float64\n"
     ]
    }
   ],
   "source": [
    "import pandas as pd\n",
    "data={ 'Math':[90,85,86,None,45,57],\n",
    "     'Science':[43,56,45,None,None,35],\n",
    "     'English':[34,None,54,32,65,None]}\n",
    "df=pd.DataFrame(data)\n",
    "print(df)\n",
    "\n",
    "print(\"\\n\",df.count())\n",
    "print(\"\\n\",df.max())\n",
    "print(\"\\n\",df.min())"
   ]
  },
  {
   "cell_type": "code",
   "execution_count": 11,
   "metadata": {},
   "outputs": [
    {
     "name": "stdout",
     "output_type": "stream",
     "text": [
      "Name\n",
      "Avery Bradley    25.0\n",
      "Jae Crowder      25.0\n",
      "John Holland     27.0\n",
      "R.J. Hunter      22.0\n",
      "Jonas Jerebko    29.0\n",
      "                 ... \n",
      "Shelvin Mack     26.0\n",
      "Raul Neto        24.0\n",
      "Tibor Pleiss     26.0\n",
      "Jeff Withey      26.0\n",
      "NaN               NaN\n",
      "Name: Age, Length: 458, dtype: float64\n"
     ]
    }
   ],
   "source": [
    "import pandas as pd\n",
    "\n",
    "data=pd.read_csv(\"nba.csv\",index_col=[\"Name\"])\n",
    "\n",
    "first=data[\"Age\"]\n",
    "print(first)"
   ]
  },
  {
   "cell_type": "code",
   "execution_count": null,
   "metadata": {},
   "outputs": [],
   "source": []
  }
 ],
 "metadata": {
  "kernelspec": {
   "display_name": "Python 3",
   "language": "python",
   "name": "python3"
  },
  "language_info": {
   "codemirror_mode": {
    "name": "ipython",
    "version": 3
   },
   "file_extension": ".py",
   "mimetype": "text/x-python",
   "name": "python",
   "nbconvert_exporter": "python",
   "pygments_lexer": "ipython3",
   "version": "3.8.3"
  }
 },
 "nbformat": 4,
 "nbformat_minor": 4
}
