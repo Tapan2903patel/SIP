{
 "cells": [
  {
   "cell_type": "code",
   "execution_count": 9,
   "metadata": {},
   "outputs": [
    {
     "name": "stdout",
     "output_type": "stream",
     "text": [
      "[['Parul', 22, 'Bharat', 45.5, 'Vadodra', 99]]\n"
     ]
    }
   ],
   "source": [
    "l1=[\"Parul\", 22, \"Bharat\", 45.5, \"Vadodra\", 99]\n",
    "print(l1[3:])\n",
    "print(l1[-1:-4:-1])"
   ]
  },
  {
   "cell_type": "code",
   "execution_count": 17,
   "metadata": {},
   "outputs": [
    {
     "name": "stdout",
     "output_type": "stream",
     "text": [
      "[]\n",
      "[['Parul', 22, 'Bharat', 45.5, 'Vadodra', 99]]\n",
      "[['Parul', 22, 'Bharat', 45.5, 'Vadodra', 99], 'Vadodra']\n"
     ]
    }
   ],
   "source": [
    "l1=[\"Parul\", 22, \"Bharat\", 45.5, \"Vadodra\", 99]\n",
    "l2=[]\n",
    "print(l2)\n",
    "l2.append(l1)\n",
    "print(l2)\n",
    "l2.append(l1[4])\n",
    "print(l2)\n"
   ]
  },
  {
   "cell_type": "code",
   "execution_count": 19,
   "metadata": {},
   "outputs": [
    {
     "name": "stdout",
     "output_type": "stream",
     "text": [
      "['Parul', 22, 'Bharat', 45.5, 'Vadodra', 99]\n"
     ]
    }
   ],
   "source": [
    "l1=[\"Parul\", 22, \"Bharat\", 45.5, \"Vadodra\", 99]\n",
    "l2=[]\n",
    "# print(l2)\n",
    "l2.extend(l1)\n",
    "print(l2)"
   ]
  },
  {
   "cell_type": "code",
   "execution_count": 22,
   "metadata": {},
   "outputs": [
    {
     "name": "stdout",
     "output_type": "stream",
     "text": [
      "['Parul', 'Rishi', 22, 'Bharat', 45.5, 'Vadodra', 99]\n"
     ]
    }
   ],
   "source": [
    "l1=[\"Parul\", 22, \"Bharat\", 45.5, \"Vadodra\", 99]\n",
    "l1.insert(1,\"Rishi\")\n",
    "print(l1)"
   ]
  },
  {
   "cell_type": "code",
   "execution_count": 27,
   "metadata": {},
   "outputs": [
    {
     "name": "stdout",
     "output_type": "stream",
     "text": [
      "['Parul', 22, 'Bharat', 'Vadodra']\n"
     ]
    }
   ],
   "source": [
    "l1=[\"Parul\", 22, \"Bharat\", 45.5, \"Vadodra\", 99]\n",
    "l1.pop(3)\n",
    "l1.pop(-1)\n",
    "print(l1)"
   ]
  },
  {
   "cell_type": "code",
   "execution_count": 30,
   "metadata": {},
   "outputs": [
    {
     "name": "stdout",
     "output_type": "stream",
     "text": [
      "['Bharat', 45.5, 'Vadodra', 99]\n"
     ]
    }
   ],
   "source": [
    "l1=[\"Parul\", 22, \"Bharat\", 45.5, \"Vadodra\", 99]\n",
    "l1.remove(22)\n",
    "l1.remove(\"Parul\")\n",
    "print(l1)"
   ]
  },
  {
   "cell_type": "code",
   "execution_count": 32,
   "metadata": {},
   "outputs": [
    {
     "name": "stdout",
     "output_type": "stream",
     "text": [
      "['Bharat', 'Parul', 'Vadodra', 'Zudio']\n",
      "[3, 8, 9, 21, 26, 85]\n"
     ]
    }
   ],
   "source": [
    "l1=[\"Parul\", \"Zudio\", \"Bharat\",  \"Vadodra\"]\n",
    "l1.sort()\n",
    "print(l1)\n",
    "l1=[9,85,26,8,3,21]\n",
    "l1.sort()\n",
    "print(l1)\n"
   ]
  },
  {
   "cell_type": "code",
   "execution_count": 34,
   "metadata": {},
   "outputs": [
    {
     "name": "stdout",
     "output_type": "stream",
     "text": [
      "Enter number: fvdf fg ddfg dfgdf f\n"
     ]
    },
    {
     "data": {
      "text/plain": [
       "['fvdf', 'fg', 'ddfg', 'dfgdf', 'f']"
      ]
     },
     "execution_count": 34,
     "metadata": {},
     "output_type": "execute_result"
    }
   ],
   "source": [
    "txt=input('Enter number: ')\n",
    "txt.split()"
   ]
  },
  {
   "cell_type": "code",
   "execution_count": null,
   "metadata": {},
   "outputs": [],
   "source": []
  },
  {
   "cell_type": "code",
   "execution_count": 38,
   "metadata": {
    "scrolled": false
   },
   "outputs": [
    {
     "name": "stdout",
     "output_type": "stream",
     "text": [
      "(45.5, 'Vadodra', 99)\n",
      "(99, 'Vadodra', 45.5)\n"
     ]
    }
   ],
   "source": [
    "l1=(\"Parul\", 22, \"Bharat\", 45.5, \"Vadodra\", 99)\n",
    "print(l1[3:])\n",
    "print(l1[-1:-4:-1])"
   ]
  },
  {
   "cell_type": "code",
   "execution_count": 43,
   "metadata": {},
   "outputs": [
    {
     "name": "stdout",
     "output_type": "stream",
     "text": [
      "4\n"
     ]
    }
   ],
   "source": [
    "l1=(5,0,1,0,65,4,2,4,0,5,3,5,0,8,1)\n",
    "x=l1.count(0)\n",
    "print(x)\n"
   ]
  },
  {
   "cell_type": "code",
   "execution_count": 47,
   "metadata": {},
   "outputs": [
    {
     "name": "stdout",
     "output_type": "stream",
     "text": [
      "4\n"
     ]
    }
   ],
   "source": [
    "l1=(5,0,1,0,65,4,2,4,0,5,3,5,0,8,1)\n",
    "x=l1.index(65)\n",
    "print(x)"
   ]
  },
  {
   "cell_type": "code",
   "execution_count": 50,
   "metadata": {},
   "outputs": [
    {
     "name": "stdout",
     "output_type": "stream",
     "text": [
      "{'Brand': 'Tata', 'Model': 'Nano', 'Year': 2010}\n",
      "<class 'dict'>\n"
     ]
    }
   ],
   "source": [
    "cars = {\n",
    "    \"Brand\":\"Tata\",\n",
    "    \"Model\":\"Nano\",\n",
    "    \"Year\":2010\n",
    "}\n",
    "print(cars)\n",
    "print(type(cars))"
   ]
  },
  {
   "cell_type": "code",
   "execution_count": 53,
   "metadata": {},
   "outputs": [
    {
     "name": "stdout",
     "output_type": "stream",
     "text": [
      "Nano\n"
     ]
    }
   ],
   "source": [
    "cars = {\n",
    "    \"Brand\":\"Tata\",\n",
    "    \"Model\":\"Nano\",\n",
    "    \"Year\":2010\n",
    "}\n",
    "print(cars[\"Model\"])\n"
   ]
  },
  {
   "cell_type": "code",
   "execution_count": 58,
   "metadata": {},
   "outputs": [
    {
     "name": "stdout",
     "output_type": "stream",
     "text": [
      "dict_keys(['Brand', 'Model', 'Year'])\n",
      "dict_values(['Tata', 'Nano', 2010])\n",
      "dict_items([('Brand', 'Tata'), ('Model', 'Nano'), ('Year', 2010)])\n"
     ]
    }
   ],
   "source": [
    "cars = {\n",
    "    \"Brand\":\"Tata\",\n",
    "    \"Model\":\"Nano\",\n",
    "    \"Year\":2010\n",
    "}\n",
    "print(cars.keys())\n",
    "print(cars.values())\n",
    "print(cars.items())\n"
   ]
  },
  {
   "cell_type": "code",
   "execution_count": 60,
   "metadata": {},
   "outputs": [
    {
     "name": "stdout",
     "output_type": "stream",
     "text": [
      "dict_items([('Brand', 'Tata'), ('Model', 'Nano'), ('Year', 2010)])\n",
      "dict_items([('Brand', 'Tata'), ('Model', 'Nano'), ('Year', 2008)])\n"
     ]
    }
   ],
   "source": [
    "cars = {\n",
    "    \"Brand\":\"Tata\",\n",
    "    \"Model\":\"Nano\",\n",
    "    \"Year\":2010\n",
    "}\n",
    "print(cars.items())\n",
    "cars.update({\"Year\":2008})\n",
    "print(cars.items())"
   ]
  },
  {
   "cell_type": "code",
   "execution_count": 67,
   "metadata": {},
   "outputs": [
    {
     "name": "stdout",
     "output_type": "stream",
     "text": [
      "dict_items([('Brand', 'Tata'), ('Model', 'Nano'), ('Year', 2010), ('Sales', '10cr')])\n"
     ]
    }
   ],
   "source": [
    "cars = {\n",
    "    \"Brand\":\"Tata\",\n",
    "    \"Model\":\"Nano\",\n",
    "    \"Year\":2010\n",
    "}\n",
    "cars[\"Sales\"]= \"10cr\"\n",
    "print(cars.items())"
   ]
  },
  {
   "cell_type": "code",
   "execution_count": 69,
   "metadata": {},
   "outputs": [
    {
     "name": "stdout",
     "output_type": "stream",
     "text": [
      "dict_items([('Brand', 'Tata'), ('Model', 'Nano')])\n"
     ]
    }
   ],
   "source": [
    "cars = {\n",
    "    \"Brand\":\"Tata\",\n",
    "    \"Model\":\"Nano\",\n",
    "    \"Year\":2010\n",
    "}\n",
    "cars.pop(\"Year\")\n",
    "print(cars.items())"
   ]
  },
  {
   "cell_type": "code",
   "execution_count": 71,
   "metadata": {},
   "outputs": [
    {
     "name": "stdout",
     "output_type": "stream",
     "text": [
      "{'cc', 'aa', 'dd', 'bb'}\n"
     ]
    }
   ],
   "source": [
    "set1={'aa','bb','dd','cc','aa','bb'}\n",
    "print(set1)"
   ]
  },
  {
   "cell_type": "code",
   "execution_count": 76,
   "metadata": {},
   "outputs": [
    {
     "data": {
      "text/plain": [
       "{'aa', 'bb', 'cc', 'xx', 'yy', 'zz'}"
      ]
     },
     "execution_count": 76,
     "metadata": {},
     "output_type": "execute_result"
    }
   ],
   "source": [
    "set1={'aa','bb','cc'}\n",
    "set2={'zz','yy','xx','cc'}\n",
    "set1|set2\n",
    "set1.union(set2)"
   ]
  },
  {
   "cell_type": "code",
   "execution_count": 78,
   "metadata": {},
   "outputs": [
    {
     "data": {
      "text/plain": [
       "{'aa', 'bb', 'cc', 'xx', 'yy', 'zz'}"
      ]
     },
     "execution_count": 78,
     "metadata": {},
     "output_type": "execute_result"
    }
   ],
   "source": [
    "set1={'aa','bb','cc'}\n",
    "set2={'zz','yy','xx','cc'}\n",
    "set1.union(set2)"
   ]
  },
  {
   "cell_type": "code",
   "execution_count": 83,
   "metadata": {},
   "outputs": [
    {
     "data": {
      "text/plain": [
       "set()"
      ]
     },
     "execution_count": 83,
     "metadata": {},
     "output_type": "execute_result"
    }
   ],
   "source": [
    "set1={'aa','bb','cc'}\n",
    "set2={'zz','yy','xx'}\n",
    "set1.intersection(set2)"
   ]
  },
  {
   "cell_type": "code",
   "execution_count": 88,
   "metadata": {},
   "outputs": [
    {
     "ename": "TypeError",
     "evalue": "unsupported operand type(s) for +: 'set' and 'set'",
     "output_type": "error",
     "traceback": [
      "\u001b[1;31m---------------------------------------------------------------------------\u001b[0m",
      "\u001b[1;31mTypeError\u001b[0m                                 Traceback (most recent call last)",
      "\u001b[1;32m<ipython-input-88-0f459e702832>\u001b[0m in \u001b[0;36m<module>\u001b[1;34m\u001b[0m\n\u001b[0;32m      3\u001b[0m \u001b[0mx\u001b[0m\u001b[1;33m=\u001b[0m \u001b[0mset1\u001b[0m\u001b[1;33m-\u001b[0m\u001b[0mset2\u001b[0m\u001b[1;33m\u001b[0m\u001b[1;33m\u001b[0m\u001b[0m\n\u001b[0;32m      4\u001b[0m \u001b[0my\u001b[0m\u001b[1;33m=\u001b[0m\u001b[0mset2\u001b[0m\u001b[1;33m-\u001b[0m\u001b[0mset1\u001b[0m\u001b[1;33m\u001b[0m\u001b[1;33m\u001b[0m\u001b[0m\n\u001b[1;32m----> 5\u001b[1;33m \u001b[0mz\u001b[0m\u001b[1;33m=\u001b[0m\u001b[0mset1\u001b[0m\u001b[1;33m+\u001b[0m\u001b[0mset2\u001b[0m\u001b[1;33m\u001b[0m\u001b[1;33m\u001b[0m\u001b[0m\n\u001b[0m\u001b[0;32m      6\u001b[0m \u001b[0mw\u001b[0m\u001b[1;33m=\u001b[0m\u001b[0mset2\u001b[0m\u001b[1;33m+\u001b[0m\u001b[0mset1\u001b[0m\u001b[1;33m\u001b[0m\u001b[1;33m\u001b[0m\u001b[0m\n\u001b[0;32m      7\u001b[0m \u001b[0mprint\u001b[0m\u001b[1;33m(\u001b[0m\u001b[0mx\u001b[0m\u001b[1;33m)\u001b[0m\u001b[1;33m\u001b[0m\u001b[1;33m\u001b[0m\u001b[0m\n",
      "\u001b[1;31mTypeError\u001b[0m: unsupported operand type(s) for +: 'set' and 'set'"
     ]
    }
   ],
   "source": [
    "set1={'aa','bb','cc'}\n",
    "set2={'zz','yy','xx','cc'}\n",
    "x= set1-set2\n",
    "y=set2-set1\n",
    "z=set1+set2\n",
    "w=set2+set1\n",
    "print(x)\n",
    "print(y)\n",
    "print(z)\n",
    "print(w)"
   ]
  },
  {
   "cell_type": "code",
   "execution_count": null,
   "metadata": {},
   "outputs": [],
   "source": []
  }
 ],
 "metadata": {
  "kernelspec": {
   "display_name": "Python 3",
   "language": "python",
   "name": "python3"
  },
  "language_info": {
   "codemirror_mode": {
    "name": "ipython",
    "version": 3
   },
   "file_extension": ".py",
   "mimetype": "text/x-python",
   "name": "python",
   "nbconvert_exporter": "python",
   "pygments_lexer": "ipython3",
   "version": "3.8.3"
  }
 },
 "nbformat": 4,
 "nbformat_minor": 4
}
